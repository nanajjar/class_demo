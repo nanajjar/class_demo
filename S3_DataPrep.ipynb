{
 "cells": [
  {
   "cell_type": "markdown",
   "id": "8d49125e",
   "metadata": {},
   "source": [
    "# Lambda Functions & Pandas: Lesson and Exercises\n",
    "\n",
    "This notebook begins with a review of Python’s lambda functions and then moves into working with data in pandas. The goal is to see how short, inline operations can be used in Python, and then how pandas provides more powerful and efficient ways of expressing the same kinds of ideas."
   ]
  },
  {
   "cell_type": "markdown",
   "id": "cced64ec",
   "metadata": {},
   "source": [
    "## Review of Lambda Functions\n",
    "A **lambda function** is a way to define a very small function in a single line. These are sometimes called **anonymous functions** because they do not need a name. Instead, they are just written inline at the moment you need them.\n",
    "\n",
    "The general form is:\n",
    "\n",
    "```python\n",
    "lambda parameters: expression\n",
    "```\n",
    "\n",
    "Notice that there is no `return` keyword. Whatever expression you write after the colon is the value that gets returned.\n",
    "\n",
    "Let’s look at some simple examples."
   ]
  },
  {
   "cell_type": "code",
   "execution_count": null,
   "id": "86bc3ded",
   "metadata": {},
   "outputs": [],
   "source": [
    "# Single parameter\n",
    "x = lambda a: a + 7\n",
    "print(x(5))          # 12\n",
    "\n",
    "# Multiple parameters\n",
    "y = lambda a, b, c: a * b * c\n",
    "print(y(2, 3, 4))    # 24\n",
    "\n",
    "# Works with different types (string repetition)\n",
    "z = lambda a: a * 3\n",
    "print(z(\"Happy birthday to you!\\n\"))\n",
    "print(z(5))          # 15"
   ]
  },
  {
   "cell_type": "code",
   "execution_count": 6,
   "id": "a23ac79c",
   "metadata": {},
   "outputs": [
    {
     "name": "stdout",
     "output_type": "stream",
     "text": [
      "[6, 8, 128, 4, 90, 46, 24, 68, 292]\n",
      "['low', 'low', 'high', 'low', 'high', 'high', 'high', 'high', 'high']\n",
      "[2, 12, 3, 23, 4, 64, 34, 45, 146]\n",
      "[64, 45, 23, 12, 34, 146]\n"
     ]
    }
   ],
   "source": [
    "# Working with lists\n",
    "my_list = [3, 4, 64, 2, 45, 23, 12, 34, 146]\n",
    "\n",
    "# Map: transform each element\n",
    "mapped_twice = list(map(lambda v: 2 * v, my_list))\n",
    "print(mapped_twice)\n",
    "\n",
    "# Conditional expression inside a lambda\n",
    "labels = list(map(lambda v: \"high\" if v > 10 else \"low\", my_list))\n",
    "print(labels)\n",
    "\n",
    "# Sorted with key: sort by last digit\n",
    "print(sorted(my_list, key=lambda v: v % 10))\n",
    "\n",
    "# Filter: keep only values > 10\n",
    "print(list(filter(lambda v: v > 10, my_list)))"
   ]
  },
  {
   "cell_type": "markdown",
   "id": "9cadbe18",
   "metadata": {},
   "source": [
    "#### Try it yourself\n",
    "- Write your own lambda that subtracts 5 from a number.\n",
    "- Write a lambda that takes two numbers and returns their average.\n",
    "- Use `map` with a lambda to square every number in a list."
   ]
  },
  {
   "cell_type": "code",
   "execution_count": 7,
   "id": "15eceddc",
   "metadata": {},
   "outputs": [
    {
     "name": "stdout",
     "output_type": "stream",
     "text": [
      "0\n",
      "6.0\n",
      "[9, 16, 4096, 4, 2025, 529, 144, 1156, 21316]\n"
     ]
    }
   ],
   "source": [
    "x = lambda a: a -5\n",
    "print(x(5))\n",
    "\n",
    "y = lambda a,b: (a + b) /2\n",
    "print(y(3,9))\n",
    "\n",
    "w = list(map(lambda a: a*a,my_list))\n",
    "print(w)"
   ]
  },
  {
   "cell_type": "markdown",
   "id": "79d54145",
   "metadata": {},
   "source": [
    "## Comparing Pure Python and Pandas\n",
    "The Python examples above are helpful, but they don’t always read very clearly, and they can become slow on large datasets. Pandas provides ways to express the same ideas in a style that is often both easier to read and much faster."
   ]
  },
  {
   "cell_type": "code",
   "execution_count": 9,
   "id": "b43cba3d",
   "metadata": {},
   "outputs": [
    {
     "name": "stdout",
     "output_type": "stream",
     "text": [
      "[12, 23, 4, 64, 45]\n"
     ]
    },
    {
     "data": {
      "text/html": [
       "<div>\n",
       "<style scoped>\n",
       "    .dataframe tbody tr th:only-of-type {\n",
       "        vertical-align: middle;\n",
       "    }\n",
       "\n",
       "    .dataframe tbody tr th {\n",
       "        vertical-align: top;\n",
       "    }\n",
       "\n",
       "    .dataframe thead th {\n",
       "        text-align: right;\n",
       "    }\n",
       "</style>\n",
       "<table border=\"1\" class=\"dataframe\">\n",
       "  <thead>\n",
       "    <tr style=\"text-align: right;\">\n",
       "      <th></th>\n",
       "      <th>Value</th>\n",
       "    </tr>\n",
       "  </thead>\n",
       "  <tbody>\n",
       "    <tr>\n",
       "      <th>4</th>\n",
       "      <td>12</td>\n",
       "    </tr>\n",
       "    <tr>\n",
       "      <th>0</th>\n",
       "      <td>23</td>\n",
       "    </tr>\n",
       "    <tr>\n",
       "      <th>1</th>\n",
       "      <td>4</td>\n",
       "    </tr>\n",
       "    <tr>\n",
       "      <th>2</th>\n",
       "      <td>64</td>\n",
       "    </tr>\n",
       "    <tr>\n",
       "      <th>3</th>\n",
       "      <td>45</td>\n",
       "    </tr>\n",
       "  </tbody>\n",
       "</table>\n",
       "</div>"
      ],
      "text/plain": [
       "   Value\n",
       "4     12\n",
       "0     23\n",
       "1      4\n",
       "2     64\n",
       "3     45"
      ]
     },
     "execution_count": 9,
     "metadata": {},
     "output_type": "execute_result"
    }
   ],
   "source": [
    "# Pure Python with sorted + key\n",
    "my_list = [23, 4, 64, 45, 12]\n",
    "print(sorted(my_list, key=lambda v: v % 10))\n",
    "\n",
    "# Pandas equivalent\n",
    "import pandas as pd\n",
    "df = pd.DataFrame({\"Value\": [23, 4, 64, 45, 12]})\n",
    "df.sort_values(by=\"Value\", key=lambda col: col % 10)"
   ]
  },
  {
   "cell_type": "code",
   "execution_count": 10,
   "id": "359c8166",
   "metadata": {},
   "outputs": [
    {
     "name": "stdout",
     "output_type": "stream",
     "text": [
      "[64, 45, 23, 12, 34, 146]\n"
     ]
    },
    {
     "data": {
      "text/html": [
       "<div>\n",
       "<style scoped>\n",
       "    .dataframe tbody tr th:only-of-type {\n",
       "        vertical-align: middle;\n",
       "    }\n",
       "\n",
       "    .dataframe tbody tr th {\n",
       "        vertical-align: top;\n",
       "    }\n",
       "\n",
       "    .dataframe thead th {\n",
       "        text-align: right;\n",
       "    }\n",
       "</style>\n",
       "<table border=\"1\" class=\"dataframe\">\n",
       "  <thead>\n",
       "    <tr style=\"text-align: right;\">\n",
       "      <th></th>\n",
       "      <th>Value</th>\n",
       "    </tr>\n",
       "  </thead>\n",
       "  <tbody>\n",
       "    <tr>\n",
       "      <th>2</th>\n",
       "      <td>64</td>\n",
       "    </tr>\n",
       "    <tr>\n",
       "      <th>4</th>\n",
       "      <td>45</td>\n",
       "    </tr>\n",
       "    <tr>\n",
       "      <th>5</th>\n",
       "      <td>23</td>\n",
       "    </tr>\n",
       "    <tr>\n",
       "      <th>6</th>\n",
       "      <td>12</td>\n",
       "    </tr>\n",
       "    <tr>\n",
       "      <th>7</th>\n",
       "      <td>34</td>\n",
       "    </tr>\n",
       "    <tr>\n",
       "      <th>8</th>\n",
       "      <td>146</td>\n",
       "    </tr>\n",
       "  </tbody>\n",
       "</table>\n",
       "</div>"
      ],
      "text/plain": [
       "   Value\n",
       "2     64\n",
       "4     45\n",
       "5     23\n",
       "6     12\n",
       "7     34\n",
       "8    146"
      ]
     },
     "execution_count": 10,
     "metadata": {},
     "output_type": "execute_result"
    }
   ],
   "source": [
    "# Pure Python with filter\n",
    "my_list = [3, 4, 64, 2, 45, 23, 12, 34, 146]\n",
    "print(list(filter(lambda v: v > 10, my_list)))\n",
    "\n",
    "# Pandas equivalent: Boolean indexing\n",
    "df = pd.DataFrame({\"Value\": my_list})\n",
    "df[df[\"Value\"] > 10]"
   ]
  },
  {
   "cell_type": "markdown",
   "id": "7ee45dcf",
   "metadata": {},
   "source": [
    "#### Try it yourself\n",
    "- Recreate the sorted example in pandas, but sort by the first digit instead of the last.\n",
    "- Filter the DataFrame to keep only even numbers."
   ]
  },
  {
   "cell_type": "code",
   "execution_count": 14,
   "id": "99db8a91",
   "metadata": {},
   "outputs": [
    {
     "name": "stdout",
     "output_type": "stream",
     "text": [
      "[100, 2, 3, 4, 12, 23, 34, 45, 64, 3690]\n",
      "   Value\n",
      "6     12\n",
      "8    100\n",
      "3      2\n",
      "5     23\n",
      "0      3\n",
      "7     34\n",
      "9   3690\n",
      "1      4\n",
      "4     45\n",
      "2     64\n"
     ]
    }
   ],
   "source": [
    "my_list = [3, 4, 64, 2, 45, 23, 12, 34,100, 3690]\n",
    "print(sorted(my_list, key=lambda v: v % 100))\n",
    "\n",
    "df = pd.DataFrame({\"Value\":my_list})\n",
    "\n",
    "print(df.sort_values(by=\"Value\", key=lambda col: col.astype(str).str[0].astype(int)))"
   ]
  },
  {
   "cell_type": "markdown",
   "id": "947baa86",
   "metadata": {},
   "source": [
    "## Back to Pandas\n",
    "Let’s now set up our environment and start working with the CMPD incident dataset."
   ]
  },
  {
   "cell_type": "code",
   "execution_count": 16,
   "id": "3e109741",
   "metadata": {},
   "outputs": [
    {
     "data": {
      "text/plain": [
       "['Complaint_No',\n",
       " 'Block_No',\n",
       " 'Direction',\n",
       " 'Street_Name',\n",
       " 'Street_Type',\n",
       " 'Suffix',\n",
       " 'Apt_No',\n",
       " 'City',\n",
       " 'State',\n",
       " 'Zipcode',\n",
       " 'X_Coordinate',\n",
       " 'Y_Coordinate',\n",
       " 'Division',\n",
       " 'Reported_Date',\n",
       " 'Location_Desc',\n",
       " 'Location_Type',\n",
       " 'Incident_From_Date',\n",
       " 'Incident_From_Time',\n",
       " 'Incident_to_date',\n",
       " 'Incident_to_Time',\n",
       " 'Place1',\n",
       " 'Place2',\n",
       " 'Clearance_Status',\n",
       " 'Clearance_Date',\n",
       " 'Case_Status',\n",
       " 'Reporting_Agency',\n",
       " 'NIBRS_Hi_Class']"
      ]
     },
     "execution_count": 16,
     "metadata": {},
     "output_type": "execute_result"
    }
   ],
   "source": [
    "%matplotlib inline\n",
    "\n",
    "import pandas as pd\n",
    "import matplotlib.pyplot as plt\n",
    "import numpy as np\n",
    "\n",
    "# Make figures larger for readability\n",
    "plt.rcParams['figure.figsize'] = (15, 7)\n",
    "\n",
    "data_file = 'cmpd_Incident_2016.csv'  # ensure this file is present in the working directory\n",
    "\n",
    "# Read data\n",
    "crime_df = pd.read_csv(data_file, encoding=\"ISO-8859-1\")\n",
    "\n",
    "# Inspect columns to know what fields we have\n",
    "crime_df.columns.tolist()"
   ]
  },
  {
   "cell_type": "code",
   "execution_count": null,
   "id": "ab61ee58",
   "metadata": {},
   "outputs": [],
   "source": [
    "# what does our data look like\n",
    "crime_df.shape"
   ]
  },
  {
   "cell_type": "markdown",
   "id": "93af2d3c",
   "metadata": {},
   "source": [
    "### Understanding the Index\n",
    "When pandas displays a DataFrame, the leftmost numbers are the index. These are row labels, not a data column. The default is zero-based. If we prefer a 1-based index and a name for presentation, we can set it:"
   ]
  },
  {
   "cell_type": "code",
   "execution_count": 17,
   "id": "04f0a70b",
   "metadata": {},
   "outputs": [
    {
     "data": {
      "text/html": [
       "<div>\n",
       "<style scoped>\n",
       "    .dataframe tbody tr th:only-of-type {\n",
       "        vertical-align: middle;\n",
       "    }\n",
       "\n",
       "    .dataframe tbody tr th {\n",
       "        vertical-align: top;\n",
       "    }\n",
       "\n",
       "    .dataframe thead th {\n",
       "        text-align: right;\n",
       "    }\n",
       "</style>\n",
       "<table border=\"1\" class=\"dataframe\">\n",
       "  <thead>\n",
       "    <tr style=\"text-align: right;\">\n",
       "      <th></th>\n",
       "      <th>Complaint_No</th>\n",
       "      <th>Block_No</th>\n",
       "      <th>Direction</th>\n",
       "      <th>Street_Name</th>\n",
       "      <th>Street_Type</th>\n",
       "      <th>Suffix</th>\n",
       "      <th>Apt_No</th>\n",
       "      <th>City</th>\n",
       "      <th>State</th>\n",
       "      <th>Zipcode</th>\n",
       "      <th>...</th>\n",
       "      <th>Incident_From_Time</th>\n",
       "      <th>Incident_to_date</th>\n",
       "      <th>Incident_to_Time</th>\n",
       "      <th>Place1</th>\n",
       "      <th>Place2</th>\n",
       "      <th>Clearance_Status</th>\n",
       "      <th>Clearance_Date</th>\n",
       "      <th>Case_Status</th>\n",
       "      <th>Reporting_Agency</th>\n",
       "      <th>NIBRS_Hi_Class</th>\n",
       "    </tr>\n",
       "    <tr>\n",
       "      <th>id</th>\n",
       "      <th></th>\n",
       "      <th></th>\n",
       "      <th></th>\n",
       "      <th></th>\n",
       "      <th></th>\n",
       "      <th></th>\n",
       "      <th></th>\n",
       "      <th></th>\n",
       "      <th></th>\n",
       "      <th></th>\n",
       "      <th></th>\n",
       "      <th></th>\n",
       "      <th></th>\n",
       "      <th></th>\n",
       "      <th></th>\n",
       "      <th></th>\n",
       "      <th></th>\n",
       "      <th></th>\n",
       "      <th></th>\n",
       "      <th></th>\n",
       "      <th></th>\n",
       "    </tr>\n",
       "  </thead>\n",
       "  <tbody>\n",
       "    <tr>\n",
       "      <th>1</th>\n",
       "      <td>2.020000e+13</td>\n",
       "      <td>2219</td>\n",
       "      <td></td>\n",
       "      <td>HEATHER GLEN</td>\n",
       "      <td>LN</td>\n",
       "      <td></td>\n",
       "      <td></td>\n",
       "      <td>CHARLOTTE</td>\n",
       "      <td>NC</td>\n",
       "      <td>28208</td>\n",
       "      <td>...</td>\n",
       "      <td>1930</td>\n",
       "      <td>12/31/15</td>\n",
       "      <td>2330.0</td>\n",
       "      <td>Residential</td>\n",
       "      <td>Private Residence                             ...</td>\n",
       "      <td>Open                                          ...</td>\n",
       "      <td></td>\n",
       "      <td>Further Investigation</td>\n",
       "      <td>Charlotte-Mecklenburg Police Department</td>\n",
       "      <td>Motor Vehicle Theft</td>\n",
       "    </tr>\n",
       "    <tr>\n",
       "      <th>2</th>\n",
       "      <td>2.020000e+13</td>\n",
       "      <td>8120</td>\n",
       "      <td>E</td>\n",
       "      <td>W T HARRIS</td>\n",
       "      <td>BV</td>\n",
       "      <td></td>\n",
       "      <td></td>\n",
       "      <td>CHARLOTTE</td>\n",
       "      <td>NC</td>\n",
       "      <td>28215</td>\n",
       "      <td>...</td>\n",
       "      <td>1</td>\n",
       "      <td>NaN</td>\n",
       "      <td>NaN</td>\n",
       "      <td>Open Area</td>\n",
       "      <td>Street/Highway                                ...</td>\n",
       "      <td>Open                                          ...</td>\n",
       "      <td></td>\n",
       "      <td>Inactive</td>\n",
       "      <td>Charlotte-Mecklenburg Police Department</td>\n",
       "      <td>Hit And Run (Property Only)</td>\n",
       "    </tr>\n",
       "    <tr>\n",
       "      <th>3</th>\n",
       "      <td>2.020000e+13</td>\n",
       "      <td>1415</td>\n",
       "      <td></td>\n",
       "      <td>TOM HUNTER</td>\n",
       "      <td>RD</td>\n",
       "      <td></td>\n",
       "      <td>220</td>\n",
       "      <td>CHARLOTTE</td>\n",
       "      <td>NC</td>\n",
       "      <td>28213</td>\n",
       "      <td>...</td>\n",
       "      <td>0</td>\n",
       "      <td>NaN</td>\n",
       "      <td>NaN</td>\n",
       "      <td>Commercial Place</td>\n",
       "      <td>Hotel/Motel                                   ...</td>\n",
       "      <td>Normal Clearance - Cleared by Arrest          ...</td>\n",
       "      <td>1/1/16</td>\n",
       "      <td>Close/Cleared</td>\n",
       "      <td>Charlotte-Mecklenburg Police Department</td>\n",
       "      <td>Simple Assault</td>\n",
       "    </tr>\n",
       "    <tr>\n",
       "      <th>4</th>\n",
       "      <td>2.020000e+13</td>\n",
       "      <td></td>\n",
       "      <td></td>\n",
       "      <td>ORR</td>\n",
       "      <td>RD</td>\n",
       "      <td></td>\n",
       "      <td>58</td>\n",
       "      <td>CHARLOTTE</td>\n",
       "      <td>NC</td>\n",
       "      <td></td>\n",
       "      <td>...</td>\n",
       "      <td>0</td>\n",
       "      <td>1/1/16</td>\n",
       "      <td>6.0</td>\n",
       "      <td>Residential</td>\n",
       "      <td>Mobile Home/Houseboat                         ...</td>\n",
       "      <td>Open                                          ...</td>\n",
       "      <td></td>\n",
       "      <td>Inactive</td>\n",
       "      <td>Charlotte-Mecklenburg Police Department</td>\n",
       "      <td>Aggravated Assault</td>\n",
       "    </tr>\n",
       "    <tr>\n",
       "      <th>5</th>\n",
       "      <td>2.020000e+13</td>\n",
       "      <td>6500</td>\n",
       "      <td>N</td>\n",
       "      <td>TRYON</td>\n",
       "      <td>ST</td>\n",
       "      <td></td>\n",
       "      <td></td>\n",
       "      <td>CHARLOTTE</td>\n",
       "      <td>NC</td>\n",
       "      <td>28213</td>\n",
       "      <td>...</td>\n",
       "      <td>5</td>\n",
       "      <td>1/1/16</td>\n",
       "      <td>6.0</td>\n",
       "      <td>Open Area</td>\n",
       "      <td>Street/Highway                                ...</td>\n",
       "      <td>Open                                          ...</td>\n",
       "      <td></td>\n",
       "      <td>Inactive</td>\n",
       "      <td>Charlotte-Mecklenburg Police Department</td>\n",
       "      <td>Aggravated Assault</td>\n",
       "    </tr>\n",
       "  </tbody>\n",
       "</table>\n",
       "<p>5 rows × 27 columns</p>\n",
       "</div>"
      ],
      "text/plain": [
       "    Complaint_No Block_No Direction                               Street_Name  \\\n",
       "id                                                                              \n",
       "1   2.020000e+13     2219            HEATHER GLEN                               \n",
       "2   2.020000e+13     8120        E   W T HARRIS                                 \n",
       "3   2.020000e+13     1415            TOM HUNTER                                 \n",
       "4   2.020000e+13                     ORR                                        \n",
       "5   2.020000e+13     6500        N   TRYON                                      \n",
       "\n",
       "   Street_Type    Suffix      Apt_No  \\\n",
       "id                                     \n",
       "1           LN                         \n",
       "2           BV                         \n",
       "3           RD                   220   \n",
       "4           RD                    58   \n",
       "5           ST                         \n",
       "\n",
       "                                        City State       Zipcode  ...  \\\n",
       "id                                                                ...   \n",
       "1   CHARLOTTE                                   NC         28208  ...   \n",
       "2   CHARLOTTE                                   NC         28215  ...   \n",
       "3   CHARLOTTE                                   NC         28213  ...   \n",
       "4   CHARLOTTE                                   NC                ...   \n",
       "5   CHARLOTTE                                   NC         28213  ...   \n",
       "\n",
       "   Incident_From_Time Incident_to_date Incident_to_Time  \\\n",
       "id                                                        \n",
       "1                1930         12/31/15           2330.0   \n",
       "2                   1              NaN              NaN   \n",
       "3                   0              NaN              NaN   \n",
       "4                   0           1/1/16              6.0   \n",
       "5                   5           1/1/16              6.0   \n",
       "\n",
       "                            Place1  \\\n",
       "id                                   \n",
       "1   Residential                      \n",
       "2   Open Area                        \n",
       "3   Commercial Place                 \n",
       "4   Residential                      \n",
       "5   Open Area                        \n",
       "\n",
       "                                               Place2  \\\n",
       "id                                                      \n",
       "1   Private Residence                             ...   \n",
       "2   Street/Highway                                ...   \n",
       "3   Hotel/Motel                                   ...   \n",
       "4   Mobile Home/Houseboat                         ...   \n",
       "5   Street/Highway                                ...   \n",
       "\n",
       "                                     Clearance_Status Clearance_Date  \\\n",
       "id                                                                     \n",
       "1   Open                                          ...                  \n",
       "2   Open                                          ...                  \n",
       "3   Normal Clearance - Cleared by Arrest          ...         1/1/16   \n",
       "4   Open                                          ...                  \n",
       "5   Open                                          ...                  \n",
       "\n",
       "                  Case_Status                               Reporting_Agency  \\\n",
       "id                                                                             \n",
       "1   Further Investigation      Charlotte-Mecklenburg Police Department         \n",
       "2   Inactive                   Charlotte-Mecklenburg Police Department         \n",
       "3   Close/Cleared              Charlotte-Mecklenburg Police Department         \n",
       "4   Inactive                   Charlotte-Mecklenburg Police Department         \n",
       "5   Inactive                   Charlotte-Mecklenburg Police Department         \n",
       "\n",
       "                 NIBRS_Hi_Class  \n",
       "id                               \n",
       "1           Motor Vehicle Theft  \n",
       "2   Hit And Run (Property Only)  \n",
       "3                Simple Assault  \n",
       "4            Aggravated Assault  \n",
       "5            Aggravated Assault  \n",
       "\n",
       "[5 rows x 27 columns]"
      ]
     },
     "execution_count": 17,
     "metadata": {},
     "output_type": "execute_result"
    }
   ],
   "source": [
    "crime_df.index = range(1, len(crime_df) + 1)\n",
    "crime_df.index.name = 'id'\n",
    "crime_df.head()"
   ]
  },
  {
   "cell_type": "markdown",
   "id": "9b9ddde7",
   "metadata": {},
   "source": [
    "## Data Quality: Missing or Misleading Values\n",
    "Real-world datasets often contain missing values, and they may be recorded in inconsistent ways. It’s important to standardize these so pandas recognizes them as missing."
   ]
  },
  {
   "cell_type": "code",
   "execution_count": 18,
   "id": "33c94097",
   "metadata": {},
   "outputs": [
    {
     "data": {
      "text/plain": [
       "Suffix              99463\n",
       "Apt_No              85635\n",
       "Direction           83728\n",
       "Clearance_Date      60120\n",
       "Zipcode             28012\n",
       "Incident_to_Time    26576\n",
       "Incident_to_date    26576\n",
       "X_Coordinate         6737\n",
       "Y_Coordinate         6737\n",
       "Block_No             5687\n",
       "dtype: int64"
      ]
     },
     "execution_count": 18,
     "metadata": {},
     "output_type": "execute_result"
    }
   ],
   "source": [
    "# Replace empty strings with NA (after stripping spaces)\n",
    "crime_df = crime_df.map(lambda s: pd.NA if isinstance(s, str) and s.strip() == \"\" else s)\n",
    "\n",
    "# Treat common placeholders as missing\n",
    "placeholders = {\"N/A\", \"NA\", \"NULL\", \"NONE\", \"UNKNOWN\", \"UNSPECIFIED\", \"(null)\"}\n",
    "crime_df = crime_df.map(lambda s: pd.NA if isinstance(s, str) and s.strip().upper() in placeholders else s)\n",
    "\n",
    "# Quick check: which columns have the most missing values?\n",
    "crime_df.isna().sum().sort_values(ascending=False).head(10)"
   ]
  },
  {
   "cell_type": "markdown",
   "id": "be4d038a",
   "metadata": {},
   "source": [
    "#### To Do #1\n",
    "- Which block or location field has the most reported incidents?  "
   ]
  },
  {
   "cell_type": "code",
   "execution_count": 20,
   "id": "3303603b",
   "metadata": {},
   "outputs": [
    {
     "data": {
      "text/plain": [
       "np.int64(94170)"
      ]
     },
     "execution_count": 20,
     "metadata": {},
     "output_type": "execute_result"
    }
   ],
   "source": [
    "crime_df[\"Block_No\"].value_counts()\n",
    "crime_df[\"Block_No\"].value_counts().sum()"
   ]
  },
  {
   "cell_type": "markdown",
   "id": "ee0cf368",
   "metadata": {},
   "source": [
    "#### To Do #2\n",
    "- What problem in the dataset does this highlight?  \n"
   ]
  },
  {
   "cell_type": "code",
   "execution_count": null,
   "id": "86fe1dc8",
   "metadata": {},
   "outputs": [],
   "source": []
  },
  {
   "cell_type": "markdown",
   "id": "d20dbbf6",
   "metadata": {},
   "source": [
    "#### To Do #3\n",
    "- How could you address it?"
   ]
  },
  {
   "cell_type": "code",
   "execution_count": null,
   "id": "2e608b36",
   "metadata": {},
   "outputs": [],
   "source": []
  },
  {
   "cell_type": "markdown",
   "id": "2ed73909",
   "metadata": {},
   "source": [
    "## Analyzing a Specific Crime\n",
    "Suppose we are interested in incidents related to **Theft**."
   ]
  },
  {
   "cell_type": "code",
   "execution_count": null,
   "id": "9c6df20f",
   "metadata": {},
   "outputs": [
    {
     "data": {
      "text/plain": [
       "(np.int64(25245), np.float64(25.28115204742782))"
      ]
     },
     "execution_count": 21,
     "metadata": {},
     "output_type": "execute_result"
    }
   ],
   "source": [
    "# Convert to string in case of missing/non-string values, then search for 'theft' (case-insensitive)\n",
    "crime_type = crime_df['NIBRS_Hi_Class'].astype(str)\n",
    "is_theft = crime_type.str.contains('theft', case=False, na=False)\n",
    "\n",
    "# Count theft incidents and compute percentage of total\n",
    "theft_count = is_theft.sum()\n",
    "theft_pct = 100 * theft_count / len(crime_df)\n",
    "\n",
    "theft_count, theft_pct"
   ]
  },
  {
   "cell_type": "code",
   "execution_count": 26,
   "id": "c68fd7f5",
   "metadata": {},
   "outputs": [
    {
     "data": {
      "text/plain": [
       "NIBRS_Hi_Class\n",
       "Theft From Motor Vehicle        10965\n",
       "Simple Assault                   9035\n",
       "All Other Thefts                 8792\n",
       "Other Unlisted Non-Criminal      7476\n",
       "Damage/Vandalism Of Property     6593\n",
       "                                ...  \n",
       "Assisting Prostitution              5\n",
       "Betting/Wagering                    3\n",
       "Incest                              3\n",
       "Welfare Fraud                       3\n",
       "Negligent Manslaughter              2\n",
       "Name: count, Length: 64, dtype: int64"
      ]
     },
     "execution_count": 26,
     "metadata": {},
     "output_type": "execute_result"
    }
   ],
   "source": [
    "crime_df['NIBRS_Hi_Class'].value_counts()"
   ]
  },
  {
   "cell_type": "markdown",
   "id": "30b39928",
   "metadata": {},
   "source": [
    "#### To Do #4\n",
    "- How many incidents are related to Theft?  "
   ]
  },
  {
   "cell_type": "code",
   "execution_count": null,
   "id": "d36ef96a",
   "metadata": {},
   "outputs": [],
   "source": []
  },
  {
   "cell_type": "markdown",
   "id": "e19eb1b5",
   "metadata": {},
   "source": [
    "#### To Do #5\n",
    "- What percentage of the total does this represent?  "
   ]
  },
  {
   "cell_type": "code",
   "execution_count": null,
   "id": "20351fe3",
   "metadata": {},
   "outputs": [],
   "source": []
  },
  {
   "cell_type": "markdown",
   "id": "b877d7f0",
   "metadata": {},
   "source": [
    "#### To Do #6\n",
    "- Which three crime categories are the most common overall?"
   ]
  },
  {
   "cell_type": "code",
   "execution_count": null,
   "id": "66bea843",
   "metadata": {},
   "outputs": [],
   "source": []
  },
  {
   "cell_type": "markdown",
   "id": "be68877a",
   "metadata": {},
   "source": [
    "## Re-expressing Field Values (Dates → Months)\n",
    "How about if we want to get a sense of the distribution of incidents over the months of the year? Do have the necessary data to accomplish this?\n",
    "If we look at our fields we can see the Reported_Date field includes this data but not in the format we want. "
   ]
  },
  {
   "cell_type": "code",
   "execution_count": null,
   "id": "fda59c01",
   "metadata": {},
   "outputs": [],
   "source": [
    "type(crime_df['Reported_Date'][1]) "
   ]
  },
  {
   "cell_type": "markdown",
   "id": "35f680ad",
   "metadata": {},
   "source": [
    "Notice that we are using index 1 because we remapped the index for this dataframe to start at 1 rather than 0.\n",
    "Now that we know the datatype for this field is a string we can either use string methods to create a new mapping to month names or we convert/parse it with `pd.to_datetime`, then use the `.dt` accessor to extract parts like month:"
   ]
  },
  {
   "cell_type": "code",
   "execution_count": null,
   "id": "1890caab",
   "metadata": {},
   "outputs": [],
   "source": [
    "# Parse date strings into datetime; invalid parses become NaT\n",
    "crime_df['Reported_Date'] = pd.to_datetime(\n",
    "    crime_df['Reported_Date'], errors='coerce'\n",
    ")\n",
    "\n",
    "# Extract month number and month name using .dt accessors\n",
    "crime_df['Month'] = crime_df['Reported_Date'].dt.month\n",
    "crime_df['MonthName'] = crime_df['Reported_Date'].dt.month_name()\n",
    "\n",
    "crime_df[['Reported_Date', 'Month', 'MonthName']].head()"
   ]
  },
  {
   "cell_type": "code",
   "execution_count": null,
   "id": "dc22dc07",
   "metadata": {},
   "outputs": [],
   "source": [
    "# Bar chart by MonthName without enforcing order (will default to alphabetical)\n",
    "ax = crime_df['MonthName'].value_counts().plot(kind='bar', rot=45)\n",
    "ax.set_xlabel('Month')\n",
    "ax.set_ylabel('Number of Incidents')\n",
    "ax.set_title('Incidents by Month (Unordered)')\n",
    "plt.show()"
   ]
  },
  {
   "cell_type": "code",
   "execution_count": null,
   "id": "c49ce576",
   "metadata": {},
   "outputs": [],
   "source": [
    "# Define calendar order and set MonthName as an ordered categorical for proper month sequence\n",
    "month_map = {1: \"January\", 2: \"February\", 3: \"March\", 4: \"April\",\n",
    "             5: \"May\", 6: \"June\", 7: \"July\", 8: \"August\",\n",
    "             9: \"September\", 10: \"October\", 11: \"November\", 12: \"December\"}\n",
    "ordered_months = list(month_map.values())\n",
    "crime_df['MonthName'] = pd.Categorical(\n",
    "    crime_df['MonthName'], categories=ordered_months, ordered=True\n",
    ")\n",
    "\n",
    "# Plot again with chronological order\n",
    "ax = crime_df['MonthName'].value_counts().reindex(ordered_months).plot(kind='bar', rot=45)\n",
    "ax.set_xlabel('Month')\n",
    "ax.set_ylabel('Number of Incidents')\n",
    "ax.set_title('Incidents by Month (Chronological)')\n",
    "plt.show()"
   ]
  },
  {
   "cell_type": "markdown",
   "id": "55a3b274",
   "metadata": {},
   "source": [
    "#### To Do #7\n",
    "- Plot a bar chart of incidents related to Theft by numeric month.  "
   ]
  },
  {
   "cell_type": "code",
   "execution_count": null,
   "id": "5adfdfef",
   "metadata": {},
   "outputs": [],
   "source": []
  },
  {
   "cell_type": "markdown",
   "id": "7f01e5fb",
   "metadata": {},
   "source": [
    "#### To Do #8\n",
    "- Which month has the highest number of Theft related incidents?  "
   ]
  },
  {
   "cell_type": "code",
   "execution_count": null,
   "id": "aee40d9f",
   "metadata": {},
   "outputs": [],
   "source": []
  },
  {
   "cell_type": "markdown",
   "id": "e9233ae3",
   "metadata": {},
   "source": [
    "#### To Do #9\n",
    "- Create a line plot of incidents and Theft related incidents over months and compare the two."
   ]
  },
  {
   "cell_type": "code",
   "execution_count": null,
   "id": "598eb2ae",
   "metadata": {},
   "outputs": [],
   "source": []
  },
  {
   "cell_type": "markdown",
   "id": "b8635864",
   "metadata": {},
   "source": [
    "## Deriving and Ordering Day of Week\n",
    "We can use the same mapping-and-ordering idea with **day of the week**. Without ordering, weekdays will sort alphabetically; with a categorical order, they appear Monday through Sunday."
   ]
  },
  {
   "cell_type": "code",
   "execution_count": 46,
   "id": "0a78e8ea",
   "metadata": {},
   "outputs": [
    {
     "data": {
      "text/html": [
       "<div>\n",
       "<style scoped>\n",
       "    .dataframe tbody tr th:only-of-type {\n",
       "        vertical-align: middle;\n",
       "    }\n",
       "\n",
       "    .dataframe tbody tr th {\n",
       "        vertical-align: top;\n",
       "    }\n",
       "\n",
       "    .dataframe thead th {\n",
       "        text-align: right;\n",
       "    }\n",
       "</style>\n",
       "<table border=\"1\" class=\"dataframe\">\n",
       "  <thead>\n",
       "    <tr style=\"text-align: right;\">\n",
       "      <th></th>\n",
       "      <th>Reported_Date</th>\n",
       "      <th>Weekday</th>\n",
       "    </tr>\n",
       "    <tr>\n",
       "      <th>id</th>\n",
       "      <th></th>\n",
       "      <th></th>\n",
       "    </tr>\n",
       "  </thead>\n",
       "  <tbody>\n",
       "    <tr>\n",
       "      <th>1</th>\n",
       "      <td>2016-01-01</td>\n",
       "      <td>Friday</td>\n",
       "    </tr>\n",
       "    <tr>\n",
       "      <th>2</th>\n",
       "      <td>2016-01-01</td>\n",
       "      <td>Friday</td>\n",
       "    </tr>\n",
       "    <tr>\n",
       "      <th>3</th>\n",
       "      <td>2016-01-01</td>\n",
       "      <td>Friday</td>\n",
       "    </tr>\n",
       "    <tr>\n",
       "      <th>4</th>\n",
       "      <td>2016-01-01</td>\n",
       "      <td>Friday</td>\n",
       "    </tr>\n",
       "    <tr>\n",
       "      <th>5</th>\n",
       "      <td>2016-01-01</td>\n",
       "      <td>Friday</td>\n",
       "    </tr>\n",
       "  </tbody>\n",
       "</table>\n",
       "</div>"
      ],
      "text/plain": [
       "   Reported_Date Weekday\n",
       "id                      \n",
       "1     2016-01-01  Friday\n",
       "2     2016-01-01  Friday\n",
       "3     2016-01-01  Friday\n",
       "4     2016-01-01  Friday\n",
       "5     2016-01-01  Friday"
      ]
     },
     "execution_count": 46,
     "metadata": {},
     "output_type": "execute_result"
    }
   ],
   "source": [
    "# Extract the weekday name from Reported_Date\n",
    "crime_df['Weekday'] = crime_df['Reported_Date'].dt.day_name()\n",
    "crime_df[['Reported_Date', 'Weekday']].head()\n"
   ]
  },
  {
   "cell_type": "code",
   "execution_count": 47,
   "id": "9487d07e",
   "metadata": {},
   "outputs": [
    {
     "data": {
      "image/png": "[encoded data removed]",
      "text/plain": [
       "<Figure size 1500x700 with 1 Axes>"
      ]
     },
     "metadata": {},
     "output_type": "display_data"
    }
   ],
   "source": [
    "# Plot without ordering: labels will be alphabetical (e.g., Friday, Monday, Saturday, ...)\n",
    "ax = crime_df['Weekday'].value_counts().plot(kind='bar', rot=45)\n",
    "ax.set_xlabel('Weekday')\n",
    "ax.set_ylabel('Number of Incidents')\n",
    "ax.set_title('Incidents by Weekday (Unordered)')\n",
    "plt.show()"
   ]
  },
  {
   "cell_type": "code",
   "execution_count": 48,
   "id": "924255ec",
   "metadata": {},
   "outputs": [
    {
     "data": {
      "image/png": "[encoded data removed]",
      "text/plain": [
       "<Figure size 1500x700 with 1 Axes>"
      ]
     },
     "metadata": {},
     "output_type": "display_data"
    }
   ],
   "source": [
    "# Define the calendar order for weekdays and set as ordered categorical\n",
    "weekday_order = [\"Monday\", \"Tuesday\", \"Wednesday\", \"Thursday\", \"Friday\", \"Saturday\", \"Sunday\"]\n",
    "crime_df['Weekday'] = pd.Categorical(crime_df['Weekday'], categories=weekday_order, ordered=True)\n",
    "\n",
    "# Plot again with correct weekday order\n",
    "ax = crime_df['Weekday'].value_counts().reindex(weekday_order).plot(kind='bar', rot=45)\n",
    "ax.set_xlabel('Weekday')\n",
    "ax.set_ylabel('Number of Incidents')\n",
    "ax.set_title('Incidents by Weekday (Chronological)')\n",
    "plt.show()"
   ]
  },
  {
   "cell_type": "markdown",
   "id": "cda4c02b",
   "metadata": {},
   "source": [
    "#### To Do #10\n",
    "- Compute the proportion of incidents that occur on weekends vs. weekdays.  "
   ]
  },
  {
   "cell_type": "code",
   "execution_count": 49,
   "id": "66d70a61",
   "metadata": {},
   "outputs": [
    {
     "name": "stdout",
     "output_type": "stream",
     "text": [
      "Weekend incidents: 24481 (24.52%)\n",
      "Weekday incidents: 75376 (75.48%)\n"
     ]
    }
   ],
   "source": [
    "weekend = {'Saturday','Sunday'} # define weekend days\n",
    "is_weekend = crime_df['Weekday'].isin(weekend) # create a mask for weekend day or not\n",
    "wknd_count = int(is_weekend.sum()) # count of weekend incidents \n",
    "wkday_count = int((~is_weekend).sum()) # count of weekday incidents\n",
    "total = crime_df.shape[0] #should match wknd_count+wkday_count\n",
    "wknd_pct = 100 * wknd_count / total if total else float('nan') # percentage of weekend incidents. divide-by-zero errors are nan\n",
    "wkday_pct = 100 * wkday_count / total if total else float('nan') # percentage of weekday incidents. divide-by-zero errors are nan\n",
    "print(f'Weekend incidents: {wknd_count} ({wknd_pct:.2f}%)')\n",
    "print(f'Weekday incidents: {wkday_count} ({wkday_pct:.2f}%)')"
   ]
  },
  {
   "cell_type": "markdown",
   "id": "bd4f2334",
   "metadata": {},
   "source": [
    "## Merging Data\n",
    "There might be scenarios where you have two different sources for your data and you wish to combine them for analysis and modeling.\n",
    "\n",
    "Let's look at a simple example of how to join to data frames.\n",
    "\n",
    "In our original 2016 CMPD incident dataset the police division where an incident is reported is indicated using the Division number. We have another dataset with the mapping between division numbers and their names.\n",
    "\n",
    "We can join the CMPD dataset with division mapping data."
   ]
  },
  {
   "cell_type": "code",
   "execution_count": 50,
   "id": "00e7b761",
   "metadata": {},
   "outputs": [
    {
     "data": {
      "text/html": [
       "<div>\n",
       "<style scoped>\n",
       "    .dataframe tbody tr th:only-of-type {\n",
       "        vertical-align: middle;\n",
       "    }\n",
       "\n",
       "    .dataframe tbody tr th {\n",
       "        vertical-align: top;\n",
       "    }\n",
       "\n",
       "    .dataframe thead th {\n",
       "        text-align: right;\n",
       "    }\n",
       "</style>\n",
       "<table border=\"1\" class=\"dataframe\">\n",
       "  <thead>\n",
       "    <tr style=\"text-align: right;\">\n",
       "      <th></th>\n",
       "      <th>Complaint_No</th>\n",
       "      <th>Block_No</th>\n",
       "      <th>Direction</th>\n",
       "      <th>Street_Name</th>\n",
       "      <th>Street_Type</th>\n",
       "      <th>Suffix</th>\n",
       "      <th>Apt_No</th>\n",
       "      <th>City</th>\n",
       "      <th>State</th>\n",
       "      <th>Zipcode</th>\n",
       "      <th>...</th>\n",
       "      <th>Place2</th>\n",
       "      <th>Clearance_Status</th>\n",
       "      <th>Clearance_Date</th>\n",
       "      <th>Case_Status</th>\n",
       "      <th>Reporting_Agency</th>\n",
       "      <th>NIBRS_Hi_Class</th>\n",
       "      <th>Month</th>\n",
       "      <th>MonthName</th>\n",
       "      <th>Weekday</th>\n",
       "      <th>division_name</th>\n",
       "    </tr>\n",
       "  </thead>\n",
       "  <tbody>\n",
       "    <tr>\n",
       "      <th>0</th>\n",
       "      <td>2.020000e+13</td>\n",
       "      <td>2219</td>\n",
       "      <td>&lt;NA&gt;</td>\n",
       "      <td>HEATHER GLEN</td>\n",
       "      <td>LN</td>\n",
       "      <td>&lt;NA&gt;</td>\n",
       "      <td>&lt;NA&gt;</td>\n",
       "      <td>CHARLOTTE</td>\n",
       "      <td>NC</td>\n",
       "      <td>28208</td>\n",
       "      <td>...</td>\n",
       "      <td>Private Residence                             ...</td>\n",
       "      <td>Open                                          ...</td>\n",
       "      <td>&lt;NA&gt;</td>\n",
       "      <td>Further Investigation</td>\n",
       "      <td>Charlotte-Mecklenburg Police Department</td>\n",
       "      <td>Motor Vehicle Theft</td>\n",
       "      <td>1</td>\n",
       "      <td>January</td>\n",
       "      <td>Friday</td>\n",
       "      <td>Freedom Division</td>\n",
       "    </tr>\n",
       "    <tr>\n",
       "      <th>1</th>\n",
       "      <td>2.020000e+13</td>\n",
       "      <td>8120</td>\n",
       "      <td>E</td>\n",
       "      <td>W T HARRIS</td>\n",
       "      <td>BV</td>\n",
       "      <td>&lt;NA&gt;</td>\n",
       "      <td>&lt;NA&gt;</td>\n",
       "      <td>CHARLOTTE</td>\n",
       "      <td>NC</td>\n",
       "      <td>28215</td>\n",
       "      <td>...</td>\n",
       "      <td>Street/Highway                                ...</td>\n",
       "      <td>Open                                          ...</td>\n",
       "      <td>&lt;NA&gt;</td>\n",
       "      <td>Inactive</td>\n",
       "      <td>Charlotte-Mecklenburg Police Department</td>\n",
       "      <td>Hit And Run (Property Only)</td>\n",
       "      <td>1</td>\n",
       "      <td>January</td>\n",
       "      <td>Friday</td>\n",
       "      <td>Hickory Grove Division</td>\n",
       "    </tr>\n",
       "    <tr>\n",
       "      <th>2</th>\n",
       "      <td>2.020000e+13</td>\n",
       "      <td>1415</td>\n",
       "      <td>&lt;NA&gt;</td>\n",
       "      <td>TOM HUNTER</td>\n",
       "      <td>RD</td>\n",
       "      <td>&lt;NA&gt;</td>\n",
       "      <td>220</td>\n",
       "      <td>CHARLOTTE</td>\n",
       "      <td>NC</td>\n",
       "      <td>28213</td>\n",
       "      <td>...</td>\n",
       "      <td>Hotel/Motel                                   ...</td>\n",
       "      <td>Normal Clearance - Cleared by Arrest          ...</td>\n",
       "      <td>1/1/16</td>\n",
       "      <td>Close/Cleared</td>\n",
       "      <td>Charlotte-Mecklenburg Police Department</td>\n",
       "      <td>Simple Assault</td>\n",
       "      <td>1</td>\n",
       "      <td>January</td>\n",
       "      <td>Friday</td>\n",
       "      <td>North Tryon Division</td>\n",
       "    </tr>\n",
       "    <tr>\n",
       "      <th>3</th>\n",
       "      <td>2.020000e+13</td>\n",
       "      <td>&lt;NA&gt;</td>\n",
       "      <td>&lt;NA&gt;</td>\n",
       "      <td>ORR</td>\n",
       "      <td>RD</td>\n",
       "      <td>&lt;NA&gt;</td>\n",
       "      <td>58</td>\n",
       "      <td>CHARLOTTE</td>\n",
       "      <td>NC</td>\n",
       "      <td>&lt;NA&gt;</td>\n",
       "      <td>...</td>\n",
       "      <td>Mobile Home/Houseboat                         ...</td>\n",
       "      <td>Open                                          ...</td>\n",
       "      <td>&lt;NA&gt;</td>\n",
       "      <td>Inactive</td>\n",
       "      <td>Charlotte-Mecklenburg Police Department</td>\n",
       "      <td>Aggravated Assault</td>\n",
       "      <td>1</td>\n",
       "      <td>January</td>\n",
       "      <td>Friday</td>\n",
       "      <td>North Tryon Division</td>\n",
       "    </tr>\n",
       "    <tr>\n",
       "      <th>4</th>\n",
       "      <td>2.020000e+13</td>\n",
       "      <td>6500</td>\n",
       "      <td>N</td>\n",
       "      <td>TRYON</td>\n",
       "      <td>ST</td>\n",
       "      <td>&lt;NA&gt;</td>\n",
       "      <td>&lt;NA&gt;</td>\n",
       "      <td>CHARLOTTE</td>\n",
       "      <td>NC</td>\n",
       "      <td>28213</td>\n",
       "      <td>...</td>\n",
       "      <td>Street/Highway                                ...</td>\n",
       "      <td>Open                                          ...</td>\n",
       "      <td>&lt;NA&gt;</td>\n",
       "      <td>Inactive</td>\n",
       "      <td>Charlotte-Mecklenburg Police Department</td>\n",
       "      <td>Aggravated Assault</td>\n",
       "      <td>1</td>\n",
       "      <td>January</td>\n",
       "      <td>Friday</td>\n",
       "      <td>North Tryon Division</td>\n",
       "    </tr>\n",
       "  </tbody>\n",
       "</table>\n",
       "<p>5 rows × 31 columns</p>\n",
       "</div>"
      ],
      "text/plain": [
       "   Complaint_No Block_No Direction                               Street_Name  \\\n",
       "0  2.020000e+13     2219      <NA>  HEATHER GLEN                               \n",
       "1  2.020000e+13     8120        E   W T HARRIS                                 \n",
       "2  2.020000e+13     1415      <NA>  TOM HUNTER                                 \n",
       "3  2.020000e+13     <NA>      <NA>  ORR                                        \n",
       "4  2.020000e+13     6500        N   TRYON                                      \n",
       "\n",
       "  Street_Type Suffix Apt_No                                      City State  \\\n",
       "0          LN   <NA>   <NA>  CHARLOTTE                                   NC   \n",
       "1          BV   <NA>   <NA>  CHARLOTTE                                   NC   \n",
       "2          RD   <NA>    220  CHARLOTTE                                   NC   \n",
       "3          RD   <NA>     58  CHARLOTTE                                   NC   \n",
       "4          ST   <NA>   <NA>  CHARLOTTE                                   NC   \n",
       "\n",
       "  Zipcode  ...                                             Place2  \\\n",
       "0   28208  ...  Private Residence                             ...   \n",
       "1   28215  ...  Street/Highway                                ...   \n",
       "2   28213  ...  Hotel/Motel                                   ...   \n",
       "3    <NA>  ...  Mobile Home/Houseboat                         ...   \n",
       "4   28213  ...  Street/Highway                                ...   \n",
       "\n",
       "                                    Clearance_Status Clearance_Date  \\\n",
       "0  Open                                          ...           <NA>   \n",
       "1  Open                                          ...           <NA>   \n",
       "2  Normal Clearance - Cleared by Arrest          ...         1/1/16   \n",
       "3  Open                                          ...           <NA>   \n",
       "4  Open                                          ...           <NA>   \n",
       "\n",
       "                 Case_Status                               Reporting_Agency  \\\n",
       "0  Further Investigation      Charlotte-Mecklenburg Police Department         \n",
       "1  Inactive                   Charlotte-Mecklenburg Police Department         \n",
       "2  Close/Cleared              Charlotte-Mecklenburg Police Department         \n",
       "3  Inactive                   Charlotte-Mecklenburg Police Department         \n",
       "4  Inactive                   Charlotte-Mecklenburg Police Department         \n",
       "\n",
       "                NIBRS_Hi_Class Month  MonthName Weekday  \\\n",
       "0          Motor Vehicle Theft     1    January  Friday   \n",
       "1  Hit And Run (Property Only)     1    January  Friday   \n",
       "2               Simple Assault     1    January  Friday   \n",
       "3           Aggravated Assault     1    January  Friday   \n",
       "4           Aggravated Assault     1    January  Friday   \n",
       "\n",
       "            division_name  \n",
       "0        Freedom Division  \n",
       "1  Hickory Grove Division  \n",
       "2    North Tryon Division  \n",
       "3    North Tryon Division  \n",
       "4    North Tryon Division  \n",
       "\n",
       "[5 rows x 31 columns]"
      ]
     },
     "execution_count": 50,
     "metadata": {},
     "output_type": "execute_result"
    }
   ],
   "source": [
    "# Load the division mapping (e.g., columns: division_number, division_name)\n",
    "df2 = pd.read_csv('cmpd_divisions.csv')\n",
    "# 1) Align column names\n",
    "df2 = df2.rename(columns={'division_number': 'Division'})\n",
    "\n",
    "# 2) Align dtypes for the join key\n",
    "crime_df['Division'] = crime_df['Division'].astype(str)\n",
    "df2['Division'] = df2['Division'].astype(str)\n",
    "\n",
    "# 3) Merge\n",
    "merged_df = pd.merge(crime_df, df2, how='left', on='Division')\n",
    "merged_df.head()"
   ]
  },
  {
   "cell_type": "markdown",
   "id": "aa86dbb6",
   "metadata": {},
   "source": [
    "#### To Do #11\n",
    "- How many rows in `merged_df` have missing division names after the join? Why might that happen?  \n"
   ]
  },
  {
   "cell_type": "code",
   "execution_count": 51,
   "id": "8ad3b0c6",
   "metadata": {},
   "outputs": [
    {
     "name": "stdout",
     "output_type": "stream",
     "text": [
      "Using division name column from mapping: division_name\n",
      "Missing division names after join: 89 of 107003\n"
     ]
    }
   ],
   "source": [
    "\n",
    "print('Using division name column from mapping:', \"division_name\")\n",
    "\n",
    "missing_after_join = merged_df[\"division_name\"].isna().sum()\n",
    "total_rows = len(merged_df)\n",
    "print(f'Missing division names after join: {missing_after_join} of {total_rows}')"
   ]
  },
  {
   "cell_type": "markdown",
   "id": "a073126a",
   "metadata": {},
   "source": [
    " #### To Do #12\n",
    "Create a bar chart showing incidents by division name and find the division with the fewest incidents."
   ]
  },
  {
   "cell_type": "code",
   "execution_count": 52,
   "id": "3b0164d8",
   "metadata": {},
   "outputs": [
    {
     "data": {
      "image/png": "[encoded data removed]",
      "text/plain": [
       "<Figure size 1500x700 with 1 Axes>"
      ]
     },
     "metadata": {},
     "output_type": "display_data"
    }
   ],
   "source": [
    "ax = merged_df[\"division_name\"].value_counts(dropna=False).plot(kind='bar', rot=45)\n",
    "ax.set_xlabel('Division Name')\n",
    "ax.set_ylabel('Number of Incidents')\n",
    "ax.set_title('Incidents by Division')\n",
    "plt.show()"
   ]
  },
  {
   "cell_type": "markdown",
   "id": "30f4c6fb",
   "metadata": {},
   "source": [
    "AJ was here"
   ]
  }
 ],
 "metadata": {
  "kernelspec": {
   "display_name": "venv",
   "language": "python",
   "name": "python3"
  },
  "language_info": {
   "codemirror_mode": {
    "name": "ipython",
    "version": 3
   },
   "file_extension": ".py",
   "mimetype": "text/x-python",
   "name": "python",
   "nbconvert_exporter": "python",
   "pygments_lexer": "ipython3",
   "version": "3.13.5"
  }
 },
 "nbformat": 4,
 "nbformat_minor": 5
}
